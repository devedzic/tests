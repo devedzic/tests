{
 "cells": [
  {
   "cell_type": "markdown",
   "id": "7608b30d",
   "metadata": {
    "pycharm": {
     "name": "#%% md\n"
    }
   },
   "source": [
    "# Import functions from another notebook"
   ]
  },
  {
   "cell_type": "markdown",
   "id": "7ec3fe89",
   "metadata": {
    "pycharm": {
     "name": "#%% md\n"
    }
   },
   "source": [
    "Test different external packages recommended on Stackoverflow for this functionality, and the assumption that \"if \\_\\_name__ == '\\_\\_main__'\" is necessary in the external .ipynb file in order to make the  import in the desired way."
   ]
  },
  {
   "cell_type": "code",
   "execution_count": null,
   "id": "0cf28f15",
   "metadata": {
    "collapsed": false,
    "jupyter": {
     "outputs_hidden": false
    },
    "pycharm": {
     "name": "#%%\n"
    }
   },
   "outputs": [],
   "source": [
    "# # This does not work in JupyterLab, only in Jupyter Notebook\n",
    "%run external_test_functions.ipynb\n",
    "\n",
    "# # This does not work in JupyterLab, only in Jupyter Notebook\n",
    "# !pip install nbimporter\n",
    "# import nbimporter\n",
    "# from external_test_functions.ipynb import return_1\n",
    "# from external_test_functions import return_1\n",
    "\n",
    "# # This does not work in JupyterLab, only in Jupyter Notebook\n",
    "# !pip install import-ipynb\n",
    "# import import_ipynb\n",
    "# from external_test_functions.ipynb import return_1\n",
    "# from external_test_functions import return_1"
   ]
  },
  {
   "cell_type": "code",
   "execution_count": null,
   "id": "446009a1",
   "metadata": {
    "collapsed": false,
    "jupyter": {
     "outputs_hidden": false
    },
    "pycharm": {
     "name": "#%%\n"
    }
   },
   "outputs": [],
   "source": [
    "# # This works in both JupyterLab and Jupyter Notebook\n",
    "# !pip install ipynb"
   ]
  },
  {
   "cell_type": "code",
   "execution_count": null,
   "id": "d4013794",
   "metadata": {
    "collapsed": false,
    "jupyter": {
     "outputs_hidden": false
    },
    "pycharm": {
     "name": "#%%\n"
    }
   },
   "outputs": [],
   "source": [
    "from ipynb.fs.full.external_test_functions import *  # imports functions and top-level variables from an external script AND runs the external script \n",
    "                                                     # (so it is necessary to have   if __name__ == '__main__' in the external script)\n",
    "# from ipynb.fs.full.external_test_functions import return_1  # imports a function AND runs the external script (so it is necessary to have   if __name__ == '__main__' in the external script)\n",
    "# from ipynb.fs.defs.external_test_functions import return_1  # just imports class and function definitions from the external script\n",
    "# import ipynb.fs.full.external_test_functions  # just imports the external script NAME, so running a function from that script must be of the form <script name>.<function>"
   ]
  },
  {
   "cell_type": "code",
   "execution_count": null,
   "id": "a9deb8db",
   "metadata": {
    "collapsed": false,
    "jupyter": {
     "outputs_hidden": false
    },
    "pycharm": {
     "name": "#%%\n"
    }
   },
   "outputs": [],
   "source": [
    "# ipynb.fs.full.external_test_functions.return_1()\n",
    "\n",
    "# print(return_1())\n",
    "# print(EXTERNAL)\n",
    "EXTERNAL"
   ]
  },
  {
   "cell_type": "markdown",
   "id": "8a4120fc",
   "metadata": {
    "pycharm": {
     "name": "#%% md\n"
    }
   },
   "source": [
    "# Test debugger"
   ]
  },
  {
   "cell_type": "code",
   "execution_count": null,
   "id": "b72d042c",
   "metadata": {
    "collapsed": false,
    "jupyter": {
     "outputs_hidden": false
    },
    "pycharm": {
     "name": "#%%\n"
    }
   },
   "outputs": [],
   "source": [
    "def return_sum(a, b):\n",
    "    sum = a + b\n",
    "    return sum"
   ]
  },
  {
   "cell_type": "code",
   "execution_count": null,
   "id": "7728ec7c",
   "metadata": {
    "collapsed": false,
    "jupyter": {
     "outputs_hidden": false
    },
    "pycharm": {
     "name": "#%%\n"
    }
   },
   "outputs": [],
   "source": [
    "a = 5\n",
    "b = 6\n",
    "c = 7\n",
    "sum = return_sum(a, b)"
   ]
  },
  {
   "cell_type": "markdown",
   "id": "bcd8eeec",
   "metadata": {
    "pycharm": {
     "name": "#%% md\n"
    }
   },
   "source": [
    "# Test magic functions"
   ]
  },
  {
   "cell_type": "code",
   "execution_count": null,
   "id": "3ddf7752",
   "metadata": {
    "collapsed": false,
    "jupyter": {
     "outputs_hidden": false
    },
    "pycharm": {
     "name": "#%%\n"
    }
   },
   "outputs": [],
   "source": [
    "%magic?"
   ]
  },
  {
   "cell_type": "code",
   "execution_count": null,
   "id": "3b2a0250",
   "metadata": {
    "collapsed": false,
    "jupyter": {
     "outputs_hidden": false
    },
    "pycharm": {
     "name": "#%%\n"
    }
   },
   "outputs": [],
   "source": [
    "%magic"
   ]
  },
  {
   "cell_type": "code",
   "execution_count": null,
   "id": "4684fc6e",
   "metadata": {
    "collapsed": false,
    "jupyter": {
     "outputs_hidden": false
    },
    "pycharm": {
     "name": "#%%\n"
    }
   },
   "outputs": [],
   "source": [
    "%%writefile?"
   ]
  },
  {
   "cell_type": "code",
   "execution_count": null,
   "id": "460c564a",
   "metadata": {
    "collapsed": false,
    "jupyter": {
     "outputs_hidden": false
    },
    "pycharm": {
     "name": "#%%\n"
    }
   },
   "outputs": [],
   "source": [
    "%%writefile t1.py\n",
    "'''Testing %%writefile\n",
    "'''\n",
    "\n",
    "\n",
    "def return_1():\n",
    "    '''A simple function\n",
    "    '''\n",
    "    \n",
    "    return 1\n"
   ]
  },
  {
   "cell_type": "code",
   "execution_count": null,
   "id": "63ecdc03",
   "metadata": {
    "collapsed": false,
    "jupyter": {
     "outputs_hidden": false
    },
    "pycharm": {
     "name": "#%%\n"
    }
   },
   "outputs": [],
   "source": [
    "%%writefile -a t1.py\n",
    "\n",
    "\n",
    "def return_2():\n",
    "    '''Another simple function\n",
    "    '''\n",
    "    \n",
    "    return 2\n"
   ]
  }
 ],
 "metadata": {
  "kernelspec": {
   "display_name": "Python 3 (ipykernel)",
   "language": "python",
   "name": "python3"
  },
  "language_info": {
   "codemirror_mode": {
    "name": "ipython",
    "version": 3
   },
   "file_extension": ".py",
   "mimetype": "text/x-python",
   "name": "python",
   "nbconvert_exporter": "python",
   "pygments_lexer": "ipython3",
   "version": "3.10.0"
  },
  "varInspector": {
   "cols": {
    "lenName": 16,
    "lenType": 16,
    "lenVar": 40
   },
   "kernels_config": {
    "python": {
     "delete_cmd_postfix": "",
     "delete_cmd_prefix": "del ",
     "library": "var_list.py",
     "varRefreshCmd": "print(var_dic_list())"
    },
    "r": {
     "delete_cmd_postfix": ") ",
     "delete_cmd_prefix": "rm(",
     "library": "var_list.r",
     "varRefreshCmd": "cat(var_dic_list()) "
    }
   },
   "types_to_exclude": [
    "module",
    "function",
    "builtin_function_or_method",
    "instance",
    "_Feature"
   ],
   "window_display": false
  }
 },
 "nbformat": 4,
 "nbformat_minor": 5
}