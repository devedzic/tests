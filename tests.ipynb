{
 "cells": [
  {
   "cell_type": "markdown",
   "source": [
    "# Import functions from another notebook"
   ],
   "metadata": {
    "collapsed": false,
    "pycharm": {
     "name": "#%% md\n"
    }
   }
  },
  {
   "cell_type": "markdown",
   "source": [
    "Test different external packages recommended on Stackoverflow for this functionality, and the assumption that \"if \\_\\_name__ == '\\_\\_main__'\" is necessary in the external .ipynb file in order to make the  import in the desired way."
   ],
   "metadata": {
    "collapsed": false,
    "pycharm": {
     "name": "#%% md\n"
    }
   }
  },
  {
   "cell_type": "code",
   "execution_count": null,
   "outputs": [],
   "source": [
    "# # This does not work in JupyterLab, only in Jupyter Notebook\n",
    "# %run external_test_functions.ipynb\n",
    "\n",
    "# # This does not work in JupyterLab, only in Jupyter Notebook\n",
    "# !pip install nbimporter\n",
    "# import nbimporter\n",
    "# from external_test_functions.ipynb import return_1\n",
    "# from external_test_functions import return_1\n",
    "\n",
    "# # This does not work in JupyterLab, only in Jupyter Notebook\n",
    "# !pip install import-ipynb\n",
    "# import import_ipynb\n",
    "# from external_test_functions.ipynb import return_1\n",
    "# from external_test_functions import return_1"
   ],
   "metadata": {
    "collapsed": false,
    "pycharm": {
     "name": "#%%\n"
    }
   }
  },
  {
   "cell_type": "code",
   "execution_count": null,
   "outputs": [],
   "source": [
    "# This works in both JupyterLab and Jupyter Notebook\n",
    "!pip install ipynb"
   ],
   "metadata": {
    "collapsed": false,
    "pycharm": {
     "name": "#%%\n"
    }
   }
  },
  {
   "cell_type": "code",
   "execution_count": null,
   "outputs": [],
   "source": [
    "from ipynb.fs.full.external_test_functions import *  # imports functions and top-level variables from an external script AND runs the external script \n",
    "                                                     # (so it is necessary to have   if __name__ == '__main__' in the external script)\n",
    "# from ipynb.fs.full.external_test_functions import return_1  # imports a function AND runs the external script (so it is necessary to have   if __name__ == '__main__' in the external script)\n",
    "# from ipynb.fs.defs.external_test_functions import return_1  # just imports class and function definitions from the external script\n",
    "# import ipynb.fs.full.external_test_functions  # just imports the external script NAME, so running a function from that script must be of the form <script name>.<function>"
   ],
   "metadata": {
    "collapsed": false,
    "pycharm": {
     "name": "#%%\n"
    }
   }
  },
  {
   "cell_type": "code",
   "execution_count": null,
   "outputs": [],
   "source": [
    "# ipynb.fs.full.external_test_functions.return_1()\n",
    "\n",
    "# print(return_1())\n",
    "# print(EXTERNAL)\n",
    "EXTERNAL"
   ],
   "metadata": {
    "collapsed": false,
    "pycharm": {
     "name": "#%%\n"
    }
   }
  },
  {
   "cell_type": "markdown",
   "source": [
    "# Test debugger"
   ],
   "metadata": {
    "collapsed": false,
    "pycharm": {
     "name": "#%% md\n"
    }
   }
  },
  {
   "cell_type": "code",
   "execution_count": null,
   "outputs": [],
   "source": [
    "def return_sum(a, b):\n",
    "    sum = a + b\n",
    "    return sum"
   ],
   "metadata": {
    "collapsed": false,
    "pycharm": {
     "name": "#%%\n"
    }
   }
  },
  {
   "cell_type": "code",
   "execution_count": null,
   "outputs": [],
   "source": [
    "a = 5\n",
    "b = 6\n",
    "c = 7\n",
    "sum = return_sum(a, b)"
   ],
   "metadata": {
    "collapsed": false,
    "pycharm": {
     "name": "#%%\n"
    }
   }
  },
  {
   "cell_type": "markdown",
   "source": [
    "# Test magic functions"
   ],
   "metadata": {
    "collapsed": false,
    "pycharm": {
     "name": "#%% md\n"
    }
   }
  },
  {
   "cell_type": "code",
   "execution_count": null,
   "outputs": [],
   "source": [
    "%magic?"
   ],
   "metadata": {
    "collapsed": false,
    "pycharm": {
     "name": "#%%\n"
    }
   }
  },
  {
   "cell_type": "code",
   "execution_count": null,
   "outputs": [],
   "source": [
    "%magic"
   ],
   "metadata": {
    "collapsed": false,
    "pycharm": {
     "name": "#%%\n"
    }
   }
  },
  {
   "cell_type": "code",
   "execution_count": null,
   "outputs": [],
   "source": [
    "%%writefile?"
   ],
   "metadata": {
    "collapsed": false,
    "pycharm": {
     "name": "#%%\n"
    }
   }
  },
  {
   "cell_type": "code",
   "execution_count": null,
   "outputs": [],
   "source": [
    "%%writefile t1.py\n",
    "'''Testing %%writefile\n",
    "'''\n",
    "\n",
    "\n",
    "def return_1():\n",
    "    '''A simple function\n",
    "    '''\n",
    "    \n",
    "    return 1\n"
   ],
   "metadata": {
    "collapsed": false,
    "pycharm": {
     "name": "#%%\n"
    }
   }
  },
  {
   "cell_type": "code",
   "execution_count": null,
   "outputs": [],
   "source": [
    "%%writefile -a t1.py\n",
    "\n",
    "\n",
    "def return_2():\n",
    "    '''Another simple function\n",
    "    '''\n",
    "    \n",
    "    return 2\n"
   ],
   "metadata": {
    "collapsed": false,
    "pycharm": {
     "name": "#%%\n"
    }
   }
  },
  {
   "cell_type": "markdown",
   "id": "2d3fa426-9889-41eb-9190-213bf17d9dd9",
   "metadata": {
    "pycharm": {
     "name": "#%% md\n"
    }
   },
   "source": [
    "Test different external packages recommended on Stackoverflow for this functionality, and the assumption that \"if \\_\\_name__ == '\\_\\_main__'\" is necessary in the external .ipynb file in order to make the  import in the desired way."
   ]
  },
  {
   "cell_type": "code",
   "execution_count": null,
   "id": "6b322d3a-7c9a-4353-bf44-233bf7b8753a",
   "metadata": {
    "pycharm": {
     "name": "#%%\n"
    }
   },
   "outputs": [],
   "source": [
    "# # This does not work in JupyterLab, only in Jupyter Notebook\n",
    "# %run external_test_functions.ipynb\n",
    "\n",
    "# # This does not work in JupyterLab, only in Jupyter Notebook\n",
    "# !pip install nbimporter\n",
    "# import nbimporter\n",
    "# from external_test_functions.ipynb import return_1\n",
    "# from external_test_functions import return_1\n",
    "\n",
    "# # This does not work in JupyterLab, only in Jupyter Notebook\n",
    "# !pip install import-ipynb\n",
    "# import import_ipynb\n",
    "# from external_test_functions.ipynb import return_1\n",
    "# from external_test_functions import return_1"
   ]
  },
  {
   "cell_type": "code",
   "execution_count": null,
   "id": "223a7241-55e0-4156-8a37-6e4ae5df6960",
   "metadata": {
    "pycharm": {
     "name": "#%%\n"
    }
   },
   "outputs": [],
   "source": [
    "# This works in both JupyterLab and Jupyter Notebook\n",
    "!pip install ipynb"
   ]
  },
  {
   "cell_type": "code",
   "execution_count": null,
   "id": "a68ece46-c625-4da5-8ebd-785f75433168",
   "metadata": {
    "pycharm": {
     "name": "#%%\n"
    }
   },
   "outputs": [],
   "source": [
    "from ipynb.fs.full.external_test_functions import *  # imports functions and top-level variables from an external script AND runs the external script \n",
    "                                                     # (so it is necessary to have   if __name__ == '__main__' in the external script)\n",
    "# from ipynb.fs.full.external_test_functions import return_1  # imports a function AND runs the external script (so it is necessary to have   if __name__ == '__main__' in the external script)\n",
    "# from ipynb.fs.defs.external_test_functions import return_1  # just imports class and function definitions from the external script\n",
    "# import ipynb.fs.full.external_test_functions  # just imports the external script NAME, so running a function from that script must be of the form <script name>.<function>"
   ]
  },
  {
   "cell_type": "code",
   "execution_count": null,
   "id": "5b8c1181",
   "metadata": {
    "pycharm": {
     "name": "#%%\n"
    }
   },
   "outputs": [],
   "source": [
    "# ipynb.fs.full.external_test_functions.return_1()\n",
    "\n",
    "# print(return_1())\n",
    "# print(EXTERNAL)\n",
    "EXTERNAL"
   ]
  },
  {
   "cell_type": "markdown",
   "id": "00a0f50a-1044-405c-8a9a-677c248e13f7",
   "metadata": {
    "pycharm": {
     "name": "#%% md\n"
    }
   },
   "source": [
    "# Test debugger"
   ]
  },
  {
   "cell_type": "code",
   "execution_count": null,
   "id": "dfb09247-21e5-4a46-85ed-d954eb96e8eb",
   "metadata": {
    "pycharm": {
     "name": "#%%\n"
    }
   },
   "outputs": [],
   "source": [
    "def return_sum(a, b):\n",
    "    sum = a + b\n",
    "    return sum"
   ]
  },
  {
   "cell_type": "code",
   "execution_count": null,
   "id": "8a9b7858-0877-46c1-96c4-9549d5f49edf",
   "metadata": {
    "pycharm": {
     "name": "#%%\n"
    }
   },
   "outputs": [],
   "source": [
    "a = 5\n",
    "b = 6\n",
    "c = 7\n",
    "sum = return_sum(a, b)"
   ]
  },
  {
   "cell_type": "markdown",
   "id": "6281204f-f6c8-45c5-a691-4db93ef39f7e",
   "metadata": {
    "pycharm": {
     "name": "#%% md\n"
    }
   },
   "source": [
    "# Test magic functions"
   ]
  },
  {
   "cell_type": "code",
   "execution_count": 1,
   "id": "9bd76b62-1226-4e74-b1e4-1205bc3f7151",
   "metadata": {
    "pycharm": {
     "name": "#%%\n"
    }
   },
   "outputs": [
    {
     "data": {
      "text/plain": [
       "\u001B[1;31mDocstring:\u001B[0m\n",
       "Print information about the magic function system.\n",
       "\n",
       "Supported formats: -latex, -brief, -rest\n",
       "\u001B[1;31mFile:\u001B[0m      c:\\users\\vladan\\appdata\\local\\programs\\python\\python310\\lib\\site-packages\\ipython\\core\\magics\\basic.py\n"
      ]
     },
     "metadata": {},
     "output_type": "display_data"
    }
   ],
   "source": [
    "%magic?"
   ]
  },
  {
   "cell_type": "code",
   "execution_count": null,
   "id": "ce9fbd17-453d-405d-92b8-4214660b83c6",
   "metadata": {
    "pycharm": {
     "name": "#%%\n"
    }
   },
   "outputs": [],
   "source": [
    "%magic"
   ]
  },
  {
   "cell_type": "code",
   "execution_count": 4,
   "id": "3e833a88-c42d-4f33-8c16-1fd1ea42ca46",
   "metadata": {
    "pycharm": {
     "name": "#%%\n"
    }
   },
   "outputs": [
    {
     "data": {
      "text/plain": [
       "\u001B[1;31mDocstring:\u001B[0m\n",
       "::\n",
       "\n",
       "  %writefile [-a] filename\n",
       "\n",
       "Write the contents of the cell to a file.\n",
       "\n",
       "The file will be overwritten unless the -a (--append) flag is specified.\n",
       "\n",
       "positional arguments:\n",
       "  filename      file to write\n",
       "\n",
       "options:\n",
       "  -a, --append  Append contents of the cell to an existing file. The file will be created if it does not exist.\n",
       "\u001B[1;31mFile:\u001B[0m      c:\\users\\vladan\\appdata\\local\\programs\\python\\python310\\lib\\site-packages\\ipython\\core\\magics\\osm.py\n"
      ]
     },
     "metadata": {},
     "output_type": "display_data"
    }
   ],
   "source": [
    "%%writefile?"
   ]
  },
  {
   "cell_type": "code",
   "execution_count": 8,
   "id": "786030e1-2993-4208-86ab-0b72cb0eb35c",
   "metadata": {
    "pycharm": {
     "name": "#%%\n"
    }
   },
   "outputs": [
    {
     "name": "stdout",
     "output_type": "stream",
     "text": [
      "Overwriting t1.py\n"
     ]
    }
   ],
   "source": [
    "%%writefile t1.py\n",
    "'''Testing %%writefile\n",
    "'''\n",
    "\n",
    "\n",
    "def return_1():\n",
    "    '''A simple function\n",
    "    '''\n",
    "    \n",
    "    return 1\n"
   ]
  },
  {
   "cell_type": "code",
   "execution_count": 9,
   "id": "8220a9a2-c19b-4a4f-b8eb-30d3a32f0893",
   "metadata": {
    "pycharm": {
     "name": "#%%\n"
    }
   },
   "outputs": [
    {
     "name": "stdout",
     "output_type": "stream",
     "text": [
      "Appending to t1.py\n"
     ]
    }
   ],
   "source": [
    "%%writefile -a t1.py\n",
    "\n",
    "\n",
    "def return_2():\n",
    "    '''Another simple function\n",
    "    '''\n",
    "    \n",
    "    return 2\n"
   ]
  }
 ],
 "metadata": {
  "kernelspec": {
   "display_name": "Python 3 (ipykernel)",
   "language": "python",
   "name": "python3"
  },
  "language_info": {
   "codemirror_mode": {
    "name": "ipython",
    "version": 3
   },
   "file_extension": ".py",
   "mimetype": "text/x-python",
   "name": "python",
   "nbconvert_exporter": "python",
   "pygments_lexer": "ipython3",
   "version": "3.10.0"
  },
  "varInspector": {
   "cols": {
    "lenName": 16,
    "lenType": 16,
    "lenVar": 40
   },
   "kernels_config": {
    "python": {
     "delete_cmd_postfix": "",
     "delete_cmd_prefix": "del ",
     "library": "var_list.py",
     "varRefreshCmd": "print(var_dic_list())"
    },
    "r": {
     "delete_cmd_postfix": ") ",
     "delete_cmd_prefix": "rm(",
     "library": "var_list.r",
     "varRefreshCmd": "cat(var_dic_list()) "
    }
   },
   "types_to_exclude": [
    "module",
    "function",
    "builtin_function_or_method",
    "instance",
    "_Feature"
   ],
   "window_display": false
  }
 },
 "nbformat": 4,
 "nbformat_minor": 5
}